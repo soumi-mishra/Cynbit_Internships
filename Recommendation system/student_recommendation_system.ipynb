{
 "cells": [
  {
   "cell_type": "markdown",
   "id": "48d72ce6",
   "metadata": {},
   "source": [
    "# 🎓 Student Interest Recommendation System\n",
    "\n",
    "This notebook builds a simple recommendation system based on student interests using TF-IDF and cosine similarity."
   ]
  },
  {
   "cell_type": "code",
   "execution_count": 1,
   "id": "fee7f34d",
   "metadata": {},
   "outputs": [],
   "source": [
    "import pandas as pd\n",
    "from sklearn.feature_extraction.text import TfidfVectorizer\n",
    "from sklearn.metrics.pairwise import cosine_similarity"
   ]
  },
  {
   "cell_type": "markdown",
   "id": "aad0fae9-cd01-4e57-accc-90a5f8e3f0f7",
   "metadata": {},
   "source": [
    "Create Dataset"
   ]
  },
  {
   "cell_type": "code",
   "execution_count": 2,
   "id": "41f65b60",
   "metadata": {},
   "outputs": [
    {
     "data": {
      "text/html": [
       "<div>\n",
       "<style scoped>\n",
       "    .dataframe tbody tr th:only-of-type {\n",
       "        vertical-align: middle;\n",
       "    }\n",
       "\n",
       "    .dataframe tbody tr th {\n",
       "        vertical-align: top;\n",
       "    }\n",
       "\n",
       "    .dataframe thead th {\n",
       "        text-align: right;\n",
       "    }\n",
       "</style>\n",
       "<table border=\"1\" class=\"dataframe\">\n",
       "  <thead>\n",
       "    <tr style=\"text-align: right;\">\n",
       "      <th></th>\n",
       "      <th>StudentID</th>\n",
       "      <th>Interests</th>\n",
       "    </tr>\n",
       "  </thead>\n",
       "  <tbody>\n",
       "    <tr>\n",
       "      <th>0</th>\n",
       "      <td>1</td>\n",
       "      <td>Machine Learning, Data Science, Python</td>\n",
       "    </tr>\n",
       "    <tr>\n",
       "      <th>1</th>\n",
       "      <td>2</td>\n",
       "      <td>Web Development, HTML, CSS, JavaScript</td>\n",
       "    </tr>\n",
       "    <tr>\n",
       "      <th>2</th>\n",
       "      <td>3</td>\n",
       "      <td>Blockchain, Cryptography, Web3</td>\n",
       "    </tr>\n",
       "    <tr>\n",
       "      <th>3</th>\n",
       "      <td>4</td>\n",
       "      <td>Cloud Computing, AWS, DevOps</td>\n",
       "    </tr>\n",
       "    <tr>\n",
       "      <th>4</th>\n",
       "      <td>5</td>\n",
       "      <td>Artificial Intelligence, Deep Learning, Python</td>\n",
       "    </tr>\n",
       "  </tbody>\n",
       "</table>\n",
       "</div>"
      ],
      "text/plain": [
       "   StudentID                                       Interests\n",
       "0          1          Machine Learning, Data Science, Python\n",
       "1          2          Web Development, HTML, CSS, JavaScript\n",
       "2          3                  Blockchain, Cryptography, Web3\n",
       "3          4                    Cloud Computing, AWS, DevOps\n",
       "4          5  Artificial Intelligence, Deep Learning, Python"
      ]
     },
     "execution_count": 2,
     "metadata": {},
     "output_type": "execute_result"
    }
   ],
   "source": [
    "# Each student has a list of interests\n",
    "data = {\n",
    "    \"StudentID\": [1, 2, 3, 4, 5, 6, 7, 8, 9, 10],\n",
    "    \"Interests\": [\n",
    "        \"Machine Learning, Data Science, Python\",\n",
    "        \"Web Development, HTML, CSS, JavaScript\",\n",
    "        \"Blockchain, Cryptography, Web3\",\n",
    "        \"Cloud Computing, AWS, DevOps\",\n",
    "        \"Artificial Intelligence, Deep Learning, Python\",\n",
    "        \"App Development, Android, Kotlin\",\n",
    "        \"Cybersecurity, Network Security, Hacking\",\n",
    "        \"Game Development, Unity, C#\",\n",
    "        \"UI/UX Design, Figma, Graphic Design\",\n",
    "        \"IoT, Arduino, Embedded Systems\"\n",
    "    ]\n",
    "}\n",
    "\n",
    "df = pd.DataFrame(data)\n",
    "df.head()"
   ]
  },
  {
   "cell_type": "markdown",
   "id": "d47a8d93-cc6c-4a01-b839-843f92e62b38",
   "metadata": {},
   "source": [
    "# TF-IDF Vectorization"
   ]
  },
  {
   "cell_type": "code",
   "execution_count": 3,
   "id": "e5211f96",
   "metadata": {},
   "outputs": [],
   "source": [
    "vectorizer = TfidfVectorizer()\n",
    "tfidf_matrix = vectorizer.fit_transform(df['Interests'])"
   ]
  },
  {
   "cell_type": "markdown",
   "id": "70e0d4a6-9316-4fe5-99aa-2ed01a96f5fc",
   "metadata": {},
   "source": [
    " Define Input and Compute Similarity"
   ]
  },
  {
   "cell_type": "code",
   "execution_count": 4,
   "id": "d1fd9838",
   "metadata": {},
   "outputs": [
    {
     "data": {
      "text/plain": [
       "['Machine Learning, Data Science, Python',\n",
       " 'Artificial Intelligence, Deep Learning, Python',\n",
       " 'UI/UX Design, Figma, Graphic Design']"
      ]
     },
     "execution_count": 4,
     "metadata": {},
     "output_type": "execute_result"
    }
   ],
   "source": [
    "# Input from a new user\n",
    "user_input = \"Machine Learning, Deep Learning, Python\"\n",
    "\n",
    "# Vectorize the input\n",
    "user_vec = vectorizer.transform([user_input])\n",
    "\n",
    "# Compute cosine similarity with all students\n",
    "similarity_scores = cosine_similarity(user_vec, tfidf_matrix)\n",
    "\n",
    "# Get top 3 most similar students\n",
    "top_indices = similarity_scores[0].argsort()[-3:][::-1]\n",
    "\n",
    "# Recommend their topics\n",
    "recommendations = df.iloc[top_indices]['Interests'].tolist()\n",
    "recommendations"
   ]
  },
  {
   "cell_type": "markdown",
   "id": "0ce0c028-28e7-4857-a9f8-7b5a87fd22a9",
   "metadata": {},
   "source": [
    "# Explanation"
   ]
  },
  {
   "cell_type": "code",
   "execution_count": 5,
   "id": "389a28fc",
   "metadata": {},
   "outputs": [
    {
     "name": "stdout",
     "output_type": "stream",
     "text": [
      "Rank 1: Student 1\n",
      "Common Interests: Machine Learning, Data Science, Python\n",
      "--------------------------------------------------\n",
      "Rank 2: Student 5\n",
      "Common Interests: Artificial Intelligence, Deep Learning, Python\n",
      "--------------------------------------------------\n",
      "Rank 3: Student 9\n",
      "Common Interests: UI/UX Design, Figma, Graphic Design\n",
      "--------------------------------------------------\n"
     ]
    }
   ],
   "source": [
    "# Show why these were recommended\n",
    "for i, idx in enumerate(top_indices):\n",
    "    print(f\"Rank {i+1}: Student {df.iloc[idx]['StudentID']}\")\n",
    "    print(f\"Common Interests: {df.iloc[idx]['Interests']}\")\n",
    "    print(\"-\" * 50)"
   ]
  }
 ],
 "metadata": {
  "kernelspec": {
   "display_name": "Python 3 (ipykernel)",
   "language": "python",
   "name": "python3"
  },
  "language_info": {
   "codemirror_mode": {
    "name": "ipython",
    "version": 3
   },
   "file_extension": ".py",
   "mimetype": "text/x-python",
   "name": "python",
   "nbconvert_exporter": "python",
   "pygments_lexer": "ipython3",
   "version": "3.13.5"
  }
 },
 "nbformat": 4,
 "nbformat_minor": 5
}
