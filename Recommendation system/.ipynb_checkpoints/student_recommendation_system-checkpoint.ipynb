{
 "cells": [
  {
   "cell_type": "markdown",
   "id": "48d72ce6",
   "metadata": {},
   "source": [
    "# 🎓 Student Interest Recommendation System\n",
    "\n",
    "This notebook builds a simple recommendation system based on student interests using TF-IDF and cosine similarity."
   ]
  },
  {
   "cell_type": "code",
   "execution_count": null,
   "id": "fee7f34d",
   "metadata": {},
   "outputs": [],
   "source": [
    "# === Imports ===\n",
    "import pandas as pd\n",
    "from sklearn.feature_extraction.text import TfidfVectorizer\n",
    "from sklearn.metrics.pairwise import cosine_similarity"
   ]
  },
  {
   "cell_type": "code",
   "execution_count": null,
   "id": "41f65b60",
   "metadata": {},
   "outputs": [],
   "source": [
    "# === Step 1: Create Dataset ===\n",
    "# Each student has a list of interests\n",
    "data = {\n",
    "    \"StudentID\": [1, 2, 3, 4, 5, 6, 7, 8, 9, 10],\n",
    "    \"Interests\": [\n",
    "        \"Machine Learning, Data Science, Python\",\n",
    "        \"Web Development, HTML, CSS, JavaScript\",\n",
    "        \"Blockchain, Cryptography, Web3\",\n",
    "        \"Cloud Computing, AWS, DevOps\",\n",
    "        \"Artificial Intelligence, Deep Learning, Python\",\n",
    "        \"App Development, Android, Kotlin\",\n",
    "        \"Cybersecurity, Network Security, Hacking\",\n",
    "        \"Game Development, Unity, C#\",\n",
    "        \"UI/UX Design, Figma, Graphic Design\",\n",
    "        \"IoT, Arduino, Embedded Systems\"\n",
    "    ]\n",
    "}\n",
    "\n",
    "df = pd.DataFrame(data)\n",
    "df.head()"
   ]
  },
  {
   "cell_type": "code",
   "execution_count": null,
   "id": "e5211f96",
   "metadata": {},
   "outputs": [],
   "source": [
    "# === Step 2: TF-IDF Vectorization ===\n",
    "vectorizer = TfidfVectorizer()\n",
    "tfidf_matrix = vectorizer.fit_transform(df['Interests'])"
   ]
  },
  {
   "cell_type": "code",
   "execution_count": null,
   "id": "d1fd9838",
   "metadata": {},
   "outputs": [],
   "source": [
    "# === Step 3: Define Input and Compute Similarity ===\n",
    "# Input from a new user\n",
    "user_input = \"Machine Learning, Deep Learning, Python\"\n",
    "\n",
    "# Vectorize the input\n",
    "user_vec = vectorizer.transform([user_input])\n",
    "\n",
    "# Compute cosine similarity with all students\n",
    "similarity_scores = cosine_similarity(user_vec, tfidf_matrix)\n",
    "\n",
    "# Get top 3 most similar students\n",
    "top_indices = similarity_scores[0].argsort()[-3:][::-1]\n",
    "\n",
    "# Recommend their topics\n",
    "recommendations = df.iloc[top_indices]['Interests'].tolist()\n",
    "recommendations"
   ]
  },
  {
   "cell_type": "code",
   "execution_count": null,
   "id": "389a28fc",
   "metadata": {},
   "outputs": [],
   "source": [
    "# === Step 4: Explanation ===\n",
    "# Show why these were recommended\n",
    "for i, idx in enumerate(top_indices):\n",
    "    print(f\"Rank {i+1}: Student {df.iloc[idx]['StudentID']}\")\n",
    "    print(f\"Common Interests: {df.iloc[idx]['Interests']}\")\n",
    "    print(\"-\" * 50)"
   ]
  }
 ],
 "metadata": {},
 "nbformat": 4,
 "nbformat_minor": 5
}
