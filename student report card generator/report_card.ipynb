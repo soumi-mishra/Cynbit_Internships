{
 "cells": [
  {
   "cell_type": "markdown",
   "id": "1292c62c-c220-49c5-b51b-d5fa9d090432",
   "metadata": {},
   "source": [
    " Import Required Libraries"
   ]
  },
  {
   "cell_type": "code",
   "execution_count": 1,
   "id": "2d6dea77-4a4f-4b7f-8cff-7cebbd796af8",
   "metadata": {},
   "outputs": [],
   "source": [
    "import pandas as pd\n",
    "import matplotlib.pyplot as plt"
   ]
  },
  {
   "cell_type": "markdown",
   "id": "5e5f3380-3ff8-42ea-b955-f9eb07246db8",
   "metadata": {},
   "source": [
    "# Grade Calculation Function"
   ]
  },
  {
   "cell_type": "code",
   "execution_count": 2,
   "id": "be1c8610-dd93-438c-bbd8-b78cb164e74a",
   "metadata": {},
   "outputs": [],
   "source": [
    "# Function to assign grade based on average\n",
    "def calculate_grade(avg):\n",
    "    if avg >= 90:\n",
    "        return 'A'\n",
    "    elif avg >= 70:\n",
    "        return 'B'\n",
    "    else:\n",
    "        return 'C'\n"
   ]
  },
  {
   "cell_type": "markdown",
   "id": "0e29a3fa-25ee-4ee8-a26c-546410c00d63",
   "metadata": {},
   "source": [
    "Input Number of Students and Collect Data"
   ]
  },
  {
   "cell_type": "code",
   "execution_count": 3,
   "id": "fdefdbc6-433e-497c-8e5d-12cc8f55beb2",
   "metadata": {},
   "outputs": [
    {
     "name": "stdin",
     "output_type": "stream",
     "text": [
      "Enter number of students:  5\n"
     ]
    },
    {
     "name": "stdout",
     "output_type": "stream",
     "text": [
      "\n",
      "Enter marks for Student 1:\n"
     ]
    },
    {
     "name": "stdin",
     "output_type": "stream",
     "text": [
      "Name:  cloe\n",
      "Marks in Subject 1:  67\n",
      "Marks in Subject 2:  78\n",
      "Marks in Subject 3:  96\n"
     ]
    },
    {
     "name": "stdout",
     "output_type": "stream",
     "text": [
      "\n",
      "Enter marks for Student 2:\n"
     ]
    },
    {
     "name": "stdin",
     "output_type": "stream",
     "text": [
      "Name:  harsh\n",
      "Marks in Subject 1:  67\n",
      "Marks in Subject 2:  99\n",
      "Marks in Subject 3:  80\n"
     ]
    },
    {
     "name": "stdout",
     "output_type": "stream",
     "text": [
      "\n",
      "Enter marks for Student 3:\n"
     ]
    },
    {
     "name": "stdin",
     "output_type": "stream",
     "text": [
      "Name:  manish\n",
      "Marks in Subject 1:  88\n",
      "Marks in Subject 2:  72\n",
      "Marks in Subject 3:  83\n"
     ]
    },
    {
     "name": "stdout",
     "output_type": "stream",
     "text": [
      "\n",
      "Enter marks for Student 4:\n"
     ]
    },
    {
     "name": "stdin",
     "output_type": "stream",
     "text": [
      "Name:  zoey\n",
      "Marks in Subject 1:  92\n",
      "Marks in Subject 2:  84\n",
      "Marks in Subject 3:  98\n"
     ]
    },
    {
     "name": "stdout",
     "output_type": "stream",
     "text": [
      "\n",
      "Enter marks for Student 5:\n"
     ]
    },
    {
     "name": "stdin",
     "output_type": "stream",
     "text": [
      "Name:  rishe\n",
      "Marks in Subject 1:  83\n",
      "Marks in Subject 2:  92\n",
      "Marks in Subject 3:  99\n"
     ]
    }
   ],
   "source": [
    "# Input number of students\n",
    "num_students = int(input(\"Enter number of students: \"))\n",
    "students_data = []\n",
    "\n",
    "# Loop to input student marks\n",
    "for i in range(num_students):\n",
    "    print(f\"\\nEnter marks for Student {i+1}:\")\n",
    "    name = input(\"Name: \")\n",
    "    marks1 = float(input(\"Marks in Subject 1: \"))\n",
    "    marks2 = float(input(\"Marks in Subject 2: \"))\n",
    "    marks3 = float(input(\"Marks in Subject 3: \"))\n",
    "    \n",
    "    total = marks1 + marks2 + marks3\n",
    "    average = total / 3\n",
    "    grade = calculate_grade(average)\n",
    "    \n",
    "    students_data.append({\n",
    "        'Name': name,\n",
    "        'Subject1': marks1,\n",
    "        'Subject2': marks2,\n",
    "        'Subject3': marks3,\n",
    "        'Total': total,\n",
    "        'Average': average,\n",
    "        'Grade': grade\n",
    "    })"
   ]
  },
  {
   "cell_type": "markdown",
   "id": "743da1cc-edd2-4245-b31f-08bc05dc955b",
   "metadata": {},
   "source": [
    "# Create DataFrame and Save to CSV"
   ]
  },
  {
   "cell_type": "code",
   "execution_count": 4,
   "id": "c4e433dd-1941-4022-b46c-5f1d679a002d",
   "metadata": {},
   "outputs": [
    {
     "data": {
      "text/html": [
       "<div>\n",
       "<style scoped>\n",
       "    .dataframe tbody tr th:only-of-type {\n",
       "        vertical-align: middle;\n",
       "    }\n",
       "\n",
       "    .dataframe tbody tr th {\n",
       "        vertical-align: top;\n",
       "    }\n",
       "\n",
       "    .dataframe thead th {\n",
       "        text-align: right;\n",
       "    }\n",
       "</style>\n",
       "<table border=\"1\" class=\"dataframe\">\n",
       "  <thead>\n",
       "    <tr style=\"text-align: right;\">\n",
       "      <th></th>\n",
       "      <th>Name</th>\n",
       "      <th>Subject1</th>\n",
       "      <th>Subject2</th>\n",
       "      <th>Subject3</th>\n",
       "      <th>Total</th>\n",
       "      <th>Average</th>\n",
       "      <th>Grade</th>\n",
       "    </tr>\n",
       "  </thead>\n",
       "  <tbody>\n",
       "    <tr>\n",
       "      <th>0</th>\n",
       "      <td>cloe</td>\n",
       "      <td>67.0</td>\n",
       "      <td>78.0</td>\n",
       "      <td>96.0</td>\n",
       "      <td>241.0</td>\n",
       "      <td>80.333333</td>\n",
       "      <td>B</td>\n",
       "    </tr>\n",
       "    <tr>\n",
       "      <th>1</th>\n",
       "      <td>harsh</td>\n",
       "      <td>67.0</td>\n",
       "      <td>99.0</td>\n",
       "      <td>80.0</td>\n",
       "      <td>246.0</td>\n",
       "      <td>82.000000</td>\n",
       "      <td>B</td>\n",
       "    </tr>\n",
       "    <tr>\n",
       "      <th>2</th>\n",
       "      <td>manish</td>\n",
       "      <td>88.0</td>\n",
       "      <td>72.0</td>\n",
       "      <td>83.0</td>\n",
       "      <td>243.0</td>\n",
       "      <td>81.000000</td>\n",
       "      <td>B</td>\n",
       "    </tr>\n",
       "    <tr>\n",
       "      <th>3</th>\n",
       "      <td>zoey</td>\n",
       "      <td>92.0</td>\n",
       "      <td>84.0</td>\n",
       "      <td>98.0</td>\n",
       "      <td>274.0</td>\n",
       "      <td>91.333333</td>\n",
       "      <td>A</td>\n",
       "    </tr>\n",
       "    <tr>\n",
       "      <th>4</th>\n",
       "      <td>rishe</td>\n",
       "      <td>83.0</td>\n",
       "      <td>92.0</td>\n",
       "      <td>99.0</td>\n",
       "      <td>274.0</td>\n",
       "      <td>91.333333</td>\n",
       "      <td>A</td>\n",
       "    </tr>\n",
       "  </tbody>\n",
       "</table>\n",
       "</div>"
      ],
      "text/plain": [
       "     Name  Subject1  Subject2  Subject3  Total    Average Grade\n",
       "0    cloe      67.0      78.0      96.0  241.0  80.333333     B\n",
       "1   harsh      67.0      99.0      80.0  246.0  82.000000     B\n",
       "2  manish      88.0      72.0      83.0  243.0  81.000000     B\n",
       "3    zoey      92.0      84.0      98.0  274.0  91.333333     A\n",
       "4   rishe      83.0      92.0      99.0  274.0  91.333333     A"
      ]
     },
     "execution_count": 4,
     "metadata": {},
     "output_type": "execute_result"
    }
   ],
   "source": [
    "# Create DataFrame\n",
    "df = pd.DataFrame(students_data)\n",
    "\n",
    "# Save to CSV\n",
    "df.to_csv('student_grades.csv', index=False)\n",
    "\n",
    "# Display DataFrame\n",
    "df"
   ]
  },
  {
   "cell_type": "markdown",
   "id": "d85e488d-0988-4f4d-84b8-e6e9b6b75318",
   "metadata": {},
   "source": [
    "# Display Summary Information"
   ]
  },
  {
   "cell_type": "code",
   "execution_count": 5,
   "id": "2e9fe42d-a05f-4984-aba7-7c2f6295099a",
   "metadata": {},
   "outputs": [
    {
     "name": "stdout",
     "output_type": "stream",
     "text": [
      "\n",
      "Summary:\n",
      "Total students: 5\n",
      "Class average score: 85.20\n",
      "Grade distribution:\n",
      "Grade\n",
      "B    3\n",
      "A    2\n",
      "Name: count, dtype: int64\n"
     ]
    }
   ],
   "source": [
    "# Summary\n",
    "print(\"\\nSummary:\")\n",
    "print(f\"Total students: {len(df)}\")\n",
    "print(f\"Class average score: {df['Average'].mean():.2f}\")\n",
    "print(\"Grade distribution:\")\n",
    "grade_counts = df['Grade'].value_counts()\n",
    "print(grade_counts)"
   ]
  },
  {
   "cell_type": "markdown",
   "id": "97631981-ebca-4d8d-b8d4-33a6049d3e5a",
   "metadata": {},
   "source": [
    "# Plot Grade Distribution "
   ]
  },
  {
   "cell_type": "code",
   "execution_count": 6,
   "id": "4685b98e-222f-4be7-958d-61edfe5f2213",
   "metadata": {},
   "outputs": [
    {
     "data": {
      "image/png": "[encoded data removed]",
      "text/plain": [
       "<Figure size 600x400 with 1 Axes>"
      ]
     },
     "metadata": {},
     "output_type": "display_data"
    }
   ],
   "source": [
    "# Plot grade distribution\n",
    "plt.figure(figsize=(6, 4))\n",
    "grade_counts.plot(kind='bar', color='lightgreen')\n",
    "plt.title('Grade Distribution')\n",
    "plt.xlabel('Grade')\n",
    "plt.ylabel('Number of Students')\n",
    "plt.xticks(rotation=0)\n",
    "plt.tight_layout()\n",
    "plt.savefig('grade_distribution.png')\n",
    "plt.show()"
   ]
  }
 ],
 "metadata": {
  "kernelspec": {
   "display_name": "Python 3 (ipykernel)",
   "language": "python",
   "name": "python3"
  },
  "language_info": {
   "codemirror_mode": {
    "name": "ipython",
    "version": 3
   },
   "file_extension": ".py",
   "mimetype": "text/x-python",
   "name": "python",
   "nbconvert_exporter": "python",
   "pygments_lexer": "ipython3",
   "version": "3.13.5"
  }
 },
 "nbformat": 4,
 "nbformat_minor": 5
}
