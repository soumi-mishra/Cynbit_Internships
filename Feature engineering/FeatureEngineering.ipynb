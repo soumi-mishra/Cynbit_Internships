{
 "cells": [
  {
   "cell_type": "markdown",
   "id": "f63660b0-b9fc-4270-9e9d-887b23295fa1",
   "metadata": {},
   "source": [
    "Import Required Libraries"
   ]
  },
  {
   "cell_type": "code",
   "execution_count": 1,
   "id": "4d30cf21-a1f6-4c8b-b780-ea348f7f57c1",
   "metadata": {},
   "outputs": [],
   "source": [
    "import pandas as pd\n",
    "import numpy as np\n",
    "import seaborn as sns\n",
    "import matplotlib.pyplot as plt\n",
    "from sklearn.preprocessing import LabelEncoder, MinMaxScaler, StandardScaler"
   ]
  },
  {
   "cell_type": "markdown",
   "id": "3d955ec0-4355-4009-b875-d9d599656bd8",
   "metadata": {},
   "source": [
    "Load Dataset"
   ]
  },
  {
   "cell_type": "code",
   "execution_count": 2,
   "id": "ba5212ba-368f-45ef-9419-01bbbe29e659",
   "metadata": {},
   "outputs": [
    {
     "data": {
      "text/html": [
       "<div>\n",
       "<style scoped>\n",
       "    .dataframe tbody tr th:only-of-type {\n",
       "        vertical-align: middle;\n",
       "    }\n",
       "\n",
       "    .dataframe tbody tr th {\n",
       "        vertical-align: top;\n",
       "    }\n",
       "\n",
       "    .dataframe thead th {\n",
       "        text-align: right;\n",
       "    }\n",
       "</style>\n",
       "<table border=\"1\" class=\"dataframe\">\n",
       "  <thead>\n",
       "    <tr style=\"text-align: right;\">\n",
       "      <th></th>\n",
       "      <th>Name</th>\n",
       "      <th>Subject1</th>\n",
       "      <th>Subject2</th>\n",
       "      <th>Subject3</th>\n",
       "      <th>Total</th>\n",
       "      <th>Average</th>\n",
       "      <th>Grade</th>\n",
       "    </tr>\n",
       "  </thead>\n",
       "  <tbody>\n",
       "    <tr>\n",
       "      <th>0</th>\n",
       "      <td>cloe</td>\n",
       "      <td>67.0</td>\n",
       "      <td>78.0</td>\n",
       "      <td>96.0</td>\n",
       "      <td>241.0</td>\n",
       "      <td>80.333333</td>\n",
       "      <td>B</td>\n",
       "    </tr>\n",
       "    <tr>\n",
       "      <th>1</th>\n",
       "      <td>harsh</td>\n",
       "      <td>67.0</td>\n",
       "      <td>99.0</td>\n",
       "      <td>80.0</td>\n",
       "      <td>246.0</td>\n",
       "      <td>82.000000</td>\n",
       "      <td>B</td>\n",
       "    </tr>\n",
       "    <tr>\n",
       "      <th>2</th>\n",
       "      <td>manish</td>\n",
       "      <td>88.0</td>\n",
       "      <td>72.0</td>\n",
       "      <td>83.0</td>\n",
       "      <td>243.0</td>\n",
       "      <td>81.000000</td>\n",
       "      <td>B</td>\n",
       "    </tr>\n",
       "    <tr>\n",
       "      <th>3</th>\n",
       "      <td>zoey</td>\n",
       "      <td>92.0</td>\n",
       "      <td>84.0</td>\n",
       "      <td>98.0</td>\n",
       "      <td>274.0</td>\n",
       "      <td>91.333333</td>\n",
       "      <td>A</td>\n",
       "    </tr>\n",
       "    <tr>\n",
       "      <th>4</th>\n",
       "      <td>rishe</td>\n",
       "      <td>83.0</td>\n",
       "      <td>92.0</td>\n",
       "      <td>99.0</td>\n",
       "      <td>274.0</td>\n",
       "      <td>91.333333</td>\n",
       "      <td>A</td>\n",
       "    </tr>\n",
       "  </tbody>\n",
       "</table>\n",
       "</div>"
      ],
      "text/plain": [
       "     Name  Subject1  Subject2  Subject3  Total    Average Grade\n",
       "0    cloe      67.0      78.0      96.0  241.0  80.333333     B\n",
       "1   harsh      67.0      99.0      80.0  246.0  82.000000     B\n",
       "2  manish      88.0      72.0      83.0  243.0  81.000000     B\n",
       "3    zoey      92.0      84.0      98.0  274.0  91.333333     A\n",
       "4   rishe      83.0      92.0      99.0  274.0  91.333333     A"
      ]
     },
     "execution_count": 2,
     "metadata": {},
     "output_type": "execute_result"
    }
   ],
   "source": [
    "# Load previously saved student dataset\n",
    "df = pd.read_csv('student_grades.csv')\n",
    "\n",
    "# Preview the data\n",
    "df.head()"
   ]
  },
  {
   "cell_type": "markdown",
   "id": "6887fb7c-ebb6-4039-956d-1044ee829a0c",
   "metadata": {},
   "source": [
    "# Feature Engineering –\n",
    "Create New Columns"
   ]
  },
  {
   "cell_type": "code",
   "execution_count": 3,
   "id": "d1f0ec9a-f9a1-4606-9ab0-033285dace35",
   "metadata": {},
   "outputs": [
    {
     "data": {
      "text/html": [
       "<div>\n",
       "<style scoped>\n",
       "    .dataframe tbody tr th:only-of-type {\n",
       "        vertical-align: middle;\n",
       "    }\n",
       "\n",
       "    .dataframe tbody tr th {\n",
       "        vertical-align: top;\n",
       "    }\n",
       "\n",
       "    .dataframe thead th {\n",
       "        text-align: right;\n",
       "    }\n",
       "</style>\n",
       "<table border=\"1\" class=\"dataframe\">\n",
       "  <thead>\n",
       "    <tr style=\"text-align: right;\">\n",
       "      <th></th>\n",
       "      <th>Name</th>\n",
       "      <th>Subject1</th>\n",
       "      <th>Subject2</th>\n",
       "      <th>Subject3</th>\n",
       "      <th>Total</th>\n",
       "      <th>Average</th>\n",
       "      <th>Grade</th>\n",
       "    </tr>\n",
       "  </thead>\n",
       "  <tbody>\n",
       "    <tr>\n",
       "      <th>0</th>\n",
       "      <td>cloe</td>\n",
       "      <td>67.0</td>\n",
       "      <td>78.0</td>\n",
       "      <td>96.0</td>\n",
       "      <td>241.0</td>\n",
       "      <td>80.333333</td>\n",
       "      <td>B</td>\n",
       "    </tr>\n",
       "    <tr>\n",
       "      <th>1</th>\n",
       "      <td>harsh</td>\n",
       "      <td>67.0</td>\n",
       "      <td>99.0</td>\n",
       "      <td>80.0</td>\n",
       "      <td>246.0</td>\n",
       "      <td>82.000000</td>\n",
       "      <td>B</td>\n",
       "    </tr>\n",
       "    <tr>\n",
       "      <th>2</th>\n",
       "      <td>manish</td>\n",
       "      <td>88.0</td>\n",
       "      <td>72.0</td>\n",
       "      <td>83.0</td>\n",
       "      <td>243.0</td>\n",
       "      <td>81.000000</td>\n",
       "      <td>B</td>\n",
       "    </tr>\n",
       "    <tr>\n",
       "      <th>3</th>\n",
       "      <td>zoey</td>\n",
       "      <td>92.0</td>\n",
       "      <td>84.0</td>\n",
       "      <td>98.0</td>\n",
       "      <td>274.0</td>\n",
       "      <td>91.333333</td>\n",
       "      <td>A</td>\n",
       "    </tr>\n",
       "    <tr>\n",
       "      <th>4</th>\n",
       "      <td>rishe</td>\n",
       "      <td>83.0</td>\n",
       "      <td>92.0</td>\n",
       "      <td>99.0</td>\n",
       "      <td>274.0</td>\n",
       "      <td>91.333333</td>\n",
       "      <td>A</td>\n",
       "    </tr>\n",
       "  </tbody>\n",
       "</table>\n",
       "</div>"
      ],
      "text/plain": [
       "     Name  Subject1  Subject2  Subject3  Total    Average Grade\n",
       "0    cloe      67.0      78.0      96.0  241.0  80.333333     B\n",
       "1   harsh      67.0      99.0      80.0  246.0  82.000000     B\n",
       "2  manish      88.0      72.0      83.0  243.0  81.000000     B\n",
       "3    zoey      92.0      84.0      98.0  274.0  91.333333     A\n",
       "4   rishe      83.0      92.0      99.0  274.0  91.333333     A"
      ]
     },
     "execution_count": 3,
     "metadata": {},
     "output_type": "execute_result"
    }
   ],
   "source": [
    "# Create new 'Total' column from individual subjects\n",
    "df['Total'] = df['Subject1'] + df['Subject2'] + df['Subject3']\n",
    "\n",
    "# Recalculate average (in case it was not accurate before)\n",
    "df['Average'] = df['Total'] / 3\n",
    "\n",
    "# Preview updated DataFrame\n",
    "df.head()"
   ]
  },
  {
   "cell_type": "markdown",
   "id": "feb57be9-2aea-426d-9851-963f782a6496",
   "metadata": {},
   "source": [
    " # Encode Categorical Values \n",
    " (e.g. Grade)"
   ]
  },
  {
   "cell_type": "code",
   "execution_count": 4,
   "id": "59e6c52a-85e5-402d-b0ad-90a8c239a224",
   "metadata": {},
   "outputs": [
    {
     "data": {
      "text/html": [
       "<div>\n",
       "<style scoped>\n",
       "    .dataframe tbody tr th:only-of-type {\n",
       "        vertical-align: middle;\n",
       "    }\n",
       "\n",
       "    .dataframe tbody tr th {\n",
       "        vertical-align: top;\n",
       "    }\n",
       "\n",
       "    .dataframe thead th {\n",
       "        text-align: right;\n",
       "    }\n",
       "</style>\n",
       "<table border=\"1\" class=\"dataframe\">\n",
       "  <thead>\n",
       "    <tr style=\"text-align: right;\">\n",
       "      <th></th>\n",
       "      <th>Grade</th>\n",
       "      <th>Grade_encoded</th>\n",
       "    </tr>\n",
       "  </thead>\n",
       "  <tbody>\n",
       "    <tr>\n",
       "      <th>0</th>\n",
       "      <td>B</td>\n",
       "      <td>2</td>\n",
       "    </tr>\n",
       "    <tr>\n",
       "      <th>1</th>\n",
       "      <td>B</td>\n",
       "      <td>2</td>\n",
       "    </tr>\n",
       "    <tr>\n",
       "      <th>2</th>\n",
       "      <td>B</td>\n",
       "      <td>2</td>\n",
       "    </tr>\n",
       "    <tr>\n",
       "      <th>3</th>\n",
       "      <td>A</td>\n",
       "      <td>3</td>\n",
       "    </tr>\n",
       "    <tr>\n",
       "      <th>4</th>\n",
       "      <td>A</td>\n",
       "      <td>3</td>\n",
       "    </tr>\n",
       "  </tbody>\n",
       "</table>\n",
       "</div>"
      ],
      "text/plain": [
       "  Grade  Grade_encoded\n",
       "0     B              2\n",
       "1     B              2\n",
       "2     B              2\n",
       "3     A              3\n",
       "4     A              3"
      ]
     },
     "execution_count": 4,
     "metadata": {},
     "output_type": "execute_result"
    }
   ],
   "source": [
    "# Using map() for simplicity\n",
    "grade_mapping = {'A': 3, 'B': 2, 'C': 1}\n",
    "df['Grade_encoded'] = df['Grade'].map(grade_mapping)\n",
    "\n",
    "# Or use LabelEncoder\n",
    "# encoder = LabelEncoder()\n",
    "# df['Grade_encoded'] = encoder.fit_transform(df['Grade'])\n",
    "\n",
    "df[['Grade', 'Grade_encoded']].head()"
   ]
  },
  {
   "cell_type": "markdown",
   "id": "3da350d7-ec63-41a0-b9d0-ebe99d567d24",
   "metadata": {},
   "source": [
    "# Handle Missing Values\n"
   ]
  },
  {
   "cell_type": "code",
   "execution_count": 5,
   "id": "bceefecd-837c-48cb-b429-9959f9ef4fdb",
   "metadata": {},
   "outputs": [
    {
     "name": "stdout",
     "output_type": "stream",
     "text": [
      "Missing values:\n",
      " Name             0\n",
      "Subject1         0\n",
      "Subject2         0\n",
      "Subject3         0\n",
      "Total            0\n",
      "Average          0\n",
      "Grade            0\n",
      "Grade_encoded    0\n",
      "dtype: int64\n"
     ]
    }
   ],
   "source": [
    "# Check for missing values\n",
    "print(\"Missing values:\\n\", df.isnull().sum())\n",
    "\n",
    "# Option 1: Fill missing numeric values with mean\n",
    "df.fillna(df.mean(numeric_only=True), inplace=True)\n",
    "\n",
    "# Option 2 (alternative): Drop rows with missing values\n",
    "# df.dropna(inplace=True)"
   ]
  },
  {
   "cell_type": "markdown",
   "id": "ca380b1a-b34f-4b8f-a76a-18efcbeea7ee",
   "metadata": {},
   "source": [
    "# Correlation Matrix and Heatmap"
   ]
  },
  {
   "cell_type": "code",
   "execution_count": 13,
   "id": "18b416b2-cc0b-4333-99c3-16fbf6cac75f",
   "metadata": {},
   "outputs": [
    {
     "data": {
      "image/png": "[encoded data removed]",
      "text/plain": [
       "<Figure size 800x600 with 2 Axes>"
      ]
     },
     "metadata": {},
     "output_type": "display_data"
    }
   ],
   "source": [
    "# Compute correlation matrix\n",
    "corr_matrix = df.select_dtypes(include='number').corr()\n",
    "\n",
    "# Plot heatmap\n",
    "plt.figure(figsize=(8, 6))\n",
    "sns.heatmap(corr_matrix, annot=True, cmap='coolwarm', fmt=\".2f\",linewidths=0.5)\n",
    "plt.title(\"Correlation Matrix\")\n",
    "plt.tight_layout()\n",
    "plt.show()"
   ]
  },
  {
   "cell_type": "markdown",
   "id": "d38c7052-2b86-433b-9a2a-d7931f4fdefe",
   "metadata": {},
   "source": [
    "# Normalize a Column \n",
    "(e.g., Total Score)"
   ]
  },
  {
   "cell_type": "markdown",
   "id": "398a0fed-c1da-49ea-8830-4811e6d3eea6",
   "metadata": {},
   "source": [
    " Min-Max Normalization"
   ]
  },
  {
   "cell_type": "code",
   "execution_count": 9,
   "id": "c0a2294c-2beb-4695-9bdd-5ab45475d28e",
   "metadata": {},
   "outputs": [
    {
     "data": {
      "text/html": [
       "<div>\n",
       "<style scoped>\n",
       "    .dataframe tbody tr th:only-of-type {\n",
       "        vertical-align: middle;\n",
       "    }\n",
       "\n",
       "    .dataframe tbody tr th {\n",
       "        vertical-align: top;\n",
       "    }\n",
       "\n",
       "    .dataframe thead th {\n",
       "        text-align: right;\n",
       "    }\n",
       "</style>\n",
       "<table border=\"1\" class=\"dataframe\">\n",
       "  <thead>\n",
       "    <tr style=\"text-align: right;\">\n",
       "      <th></th>\n",
       "      <th>Total</th>\n",
       "      <th>Total_minmax</th>\n",
       "    </tr>\n",
       "  </thead>\n",
       "  <tbody>\n",
       "    <tr>\n",
       "      <th>0</th>\n",
       "      <td>241.0</td>\n",
       "      <td>0.000000</td>\n",
       "    </tr>\n",
       "    <tr>\n",
       "      <th>1</th>\n",
       "      <td>246.0</td>\n",
       "      <td>0.151515</td>\n",
       "    </tr>\n",
       "    <tr>\n",
       "      <th>2</th>\n",
       "      <td>243.0</td>\n",
       "      <td>0.060606</td>\n",
       "    </tr>\n",
       "    <tr>\n",
       "      <th>3</th>\n",
       "      <td>274.0</td>\n",
       "      <td>1.000000</td>\n",
       "    </tr>\n",
       "    <tr>\n",
       "      <th>4</th>\n",
       "      <td>274.0</td>\n",
       "      <td>1.000000</td>\n",
       "    </tr>\n",
       "  </tbody>\n",
       "</table>\n",
       "</div>"
      ],
      "text/plain": [
       "   Total  Total_minmax\n",
       "0  241.0      0.000000\n",
       "1  246.0      0.151515\n",
       "2  243.0      0.060606\n",
       "3  274.0      1.000000\n",
       "4  274.0      1.000000"
      ]
     },
     "execution_count": 9,
     "metadata": {},
     "output_type": "execute_result"
    }
   ],
   "source": [
    "scaler = MinMaxScaler()\n",
    "df['Total_minmax'] = scaler.fit_transform(df[['Total']])\n",
    "\n",
    "df[['Total', 'Total_minmax']].head()"
   ]
  },
  {
   "cell_type": "markdown",
   "id": "5daaac75-ea2b-4ff5-bfe5-b0f12ca16603",
   "metadata": {},
   "source": [
    "StandardScaler (Z-score)\n"
   ]
  },
  {
   "cell_type": "code",
   "execution_count": 10,
   "id": "6d0bb1d3-196a-4205-815c-b0586eae43a3",
   "metadata": {},
   "outputs": [
    {
     "data": {
      "text/html": [
       "<div>\n",
       "<style scoped>\n",
       "    .dataframe tbody tr th:only-of-type {\n",
       "        vertical-align: middle;\n",
       "    }\n",
       "\n",
       "    .dataframe tbody tr th {\n",
       "        vertical-align: top;\n",
       "    }\n",
       "\n",
       "    .dataframe thead th {\n",
       "        text-align: right;\n",
       "    }\n",
       "</style>\n",
       "<table border=\"1\" class=\"dataframe\">\n",
       "  <thead>\n",
       "    <tr style=\"text-align: right;\">\n",
       "      <th></th>\n",
       "      <th>Total</th>\n",
       "      <th>Total_std</th>\n",
       "    </tr>\n",
       "  </thead>\n",
       "  <tbody>\n",
       "    <tr>\n",
       "      <th>0</th>\n",
       "      <td>241.0</td>\n",
       "      <td>-0.966400</td>\n",
       "    </tr>\n",
       "    <tr>\n",
       "      <th>1</th>\n",
       "      <td>246.0</td>\n",
       "      <td>-0.635441</td>\n",
       "    </tr>\n",
       "    <tr>\n",
       "      <th>2</th>\n",
       "      <td>243.0</td>\n",
       "      <td>-0.834017</td>\n",
       "    </tr>\n",
       "    <tr>\n",
       "      <th>3</th>\n",
       "      <td>274.0</td>\n",
       "      <td>1.217929</td>\n",
       "    </tr>\n",
       "    <tr>\n",
       "      <th>4</th>\n",
       "      <td>274.0</td>\n",
       "      <td>1.217929</td>\n",
       "    </tr>\n",
       "  </tbody>\n",
       "</table>\n",
       "</div>"
      ],
      "text/plain": [
       "   Total  Total_std\n",
       "0  241.0  -0.966400\n",
       "1  246.0  -0.635441\n",
       "2  243.0  -0.834017\n",
       "3  274.0   1.217929\n",
       "4  274.0   1.217929"
      ]
     },
     "execution_count": 10,
     "metadata": {},
     "output_type": "execute_result"
    }
   ],
   "source": [
    "scaler_std = StandardScaler()\n",
    "df['Total_std'] = scaler_std.fit_transform(df[['Total']])\n",
    "\n",
    "df[['Total', 'Total_std']].head()"
   ]
  },
  {
   "cell_type": "markdown",
   "id": "690e6169-6cc0-4c07-a84d-5f9f3bbae1eb",
   "metadata": {},
   "source": [
    "# Final Preview\n"
   ]
  },
  {
   "cell_type": "code",
   "execution_count": 11,
   "id": "4de58544-8889-4623-955a-893331f9eeeb",
   "metadata": {},
   "outputs": [
    {
     "data": {
      "text/html": [
       "<div>\n",
       "<style scoped>\n",
       "    .dataframe tbody tr th:only-of-type {\n",
       "        vertical-align: middle;\n",
       "    }\n",
       "\n",
       "    .dataframe tbody tr th {\n",
       "        vertical-align: top;\n",
       "    }\n",
       "\n",
       "    .dataframe thead th {\n",
       "        text-align: right;\n",
       "    }\n",
       "</style>\n",
       "<table border=\"1\" class=\"dataframe\">\n",
       "  <thead>\n",
       "    <tr style=\"text-align: right;\">\n",
       "      <th></th>\n",
       "      <th>Name</th>\n",
       "      <th>Subject1</th>\n",
       "      <th>Subject2</th>\n",
       "      <th>Subject3</th>\n",
       "      <th>Total</th>\n",
       "      <th>Average</th>\n",
       "      <th>Grade</th>\n",
       "      <th>Grade_encoded</th>\n",
       "      <th>Total_minmax</th>\n",
       "      <th>Total_std</th>\n",
       "    </tr>\n",
       "  </thead>\n",
       "  <tbody>\n",
       "    <tr>\n",
       "      <th>0</th>\n",
       "      <td>cloe</td>\n",
       "      <td>67.0</td>\n",
       "      <td>78.0</td>\n",
       "      <td>96.0</td>\n",
       "      <td>241.0</td>\n",
       "      <td>80.333333</td>\n",
       "      <td>B</td>\n",
       "      <td>2</td>\n",
       "      <td>0.000000</td>\n",
       "      <td>-0.966400</td>\n",
       "    </tr>\n",
       "    <tr>\n",
       "      <th>1</th>\n",
       "      <td>harsh</td>\n",
       "      <td>67.0</td>\n",
       "      <td>99.0</td>\n",
       "      <td>80.0</td>\n",
       "      <td>246.0</td>\n",
       "      <td>82.000000</td>\n",
       "      <td>B</td>\n",
       "      <td>2</td>\n",
       "      <td>0.151515</td>\n",
       "      <td>-0.635441</td>\n",
       "    </tr>\n",
       "    <tr>\n",
       "      <th>2</th>\n",
       "      <td>manish</td>\n",
       "      <td>88.0</td>\n",
       "      <td>72.0</td>\n",
       "      <td>83.0</td>\n",
       "      <td>243.0</td>\n",
       "      <td>81.000000</td>\n",
       "      <td>B</td>\n",
       "      <td>2</td>\n",
       "      <td>0.060606</td>\n",
       "      <td>-0.834017</td>\n",
       "    </tr>\n",
       "    <tr>\n",
       "      <th>3</th>\n",
       "      <td>zoey</td>\n",
       "      <td>92.0</td>\n",
       "      <td>84.0</td>\n",
       "      <td>98.0</td>\n",
       "      <td>274.0</td>\n",
       "      <td>91.333333</td>\n",
       "      <td>A</td>\n",
       "      <td>3</td>\n",
       "      <td>1.000000</td>\n",
       "      <td>1.217929</td>\n",
       "    </tr>\n",
       "    <tr>\n",
       "      <th>4</th>\n",
       "      <td>rishe</td>\n",
       "      <td>83.0</td>\n",
       "      <td>92.0</td>\n",
       "      <td>99.0</td>\n",
       "      <td>274.0</td>\n",
       "      <td>91.333333</td>\n",
       "      <td>A</td>\n",
       "      <td>3</td>\n",
       "      <td>1.000000</td>\n",
       "      <td>1.217929</td>\n",
       "    </tr>\n",
       "  </tbody>\n",
       "</table>\n",
       "</div>"
      ],
      "text/plain": [
       "     Name  Subject1  Subject2  Subject3  Total    Average Grade  \\\n",
       "0    cloe      67.0      78.0      96.0  241.0  80.333333     B   \n",
       "1   harsh      67.0      99.0      80.0  246.0  82.000000     B   \n",
       "2  manish      88.0      72.0      83.0  243.0  81.000000     B   \n",
       "3    zoey      92.0      84.0      98.0  274.0  91.333333     A   \n",
       "4   rishe      83.0      92.0      99.0  274.0  91.333333     A   \n",
       "\n",
       "   Grade_encoded  Total_minmax  Total_std  \n",
       "0              2      0.000000  -0.966400  \n",
       "1              2      0.151515  -0.635441  \n",
       "2              2      0.060606  -0.834017  \n",
       "3              3      1.000000   1.217929  \n",
       "4              3      1.000000   1.217929  "
      ]
     },
     "execution_count": 11,
     "metadata": {},
     "output_type": "execute_result"
    }
   ],
   "source": [
    "# Show final processed DataFrame\n",
    "df.head()"
   ]
  }
 ],
 "metadata": {
  "kernelspec": {
   "display_name": "Python 3 (ipykernel)",
   "language": "python",
   "name": "python3"
  },
  "language_info": {
   "codemirror_mode": {
    "name": "ipython",
    "version": 3
   },
   "file_extension": ".py",
   "mimetype": "text/x-python",
   "name": "python",
   "nbconvert_exporter": "python",
   "pygments_lexer": "ipython3",
   "version": "3.13.5"
  }
 },
 "nbformat": 4,
 "nbformat_minor": 5
}
